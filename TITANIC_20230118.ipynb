{
 "cells": [
  {
   "cell_type": "markdown",
   "id": "fe527b57",
   "metadata": {},
   "source": [
    "# Titanic - Machine Learning from Disaster\n",
    "### Predict survival on the Titanic and get familiar with ML basics"
   ]
  },
  {
   "cell_type": "markdown",
   "id": "928aec4a",
   "metadata": {},
   "source": [
    "---------------------"
   ]
  },
  {
   "cell_type": "markdown",
   "id": "80187f60",
   "metadata": {},
   "source": [
    "* Kaggle 링크 : https://www.kaggle.com/competitions/titanic/data <br/>\n",
    "* 데이터 분석 : https://greencloud.tistory.com/64"
   ]
  },
  {
   "cell_type": "markdown",
   "id": "ead33b9c",
   "metadata": {},
   "source": [
    "## Step1. 데이터 탐색"
   ]
  },
  {
   "cell_type": "markdown",
   "id": "a5d80ff3",
   "metadata": {},
   "source": [
    "### 1) Data Dictionary"
   ]
  },
  {
   "cell_type": "markdown",
   "id": "f2fd56f1",
   "metadata": {},
   "source": [
    "|Variable|Definition|Key|Comment|\n",
    "|:-------|:---------|:--|:------|\n",
    "|PassengerId||||\n",
    "|survived|Survival  |0=No, 1=Yes||\n",
    "|pclass  |Ticket class|1=1st, 2=2nd, 3=3rd|A proxy for socio-economic status(SES) <br/> 1st=Upper, 2nd=Middle, 3rd=Loser|\n",
    "|Name|Name|||\n",
    "|Sex|Sex| | |\n",
    "|Age|Age in years||Age is fractional if less than 1. If the age is estimated, is it in the from of xx.5|\n",
    "|Sibsp|# of siblings/spouses aboard the Titanic||The dataset defines family relations in this way <br/> Siblind=brother, sister, stepbrother, stepsister <br/> Spouse=husband, wife (mistresses and fiances were ignored)|\n",
    "|Parch|# of parents/children aboard the Titanic||The dataset defines family relations in this way <br/> Parent=mother, father <br/> Child=daughter, son, stepdaughter, stepson <br/> Some children travelled only with a nanny, therefore parch=0 for them.|\n",
    "|Ticket|Ticket number|||\n",
    "|Fare|Passenger fare|||\n",
    "|Cabin|Cabin number|||\n",
    "|Embarked|Port of Embarkation|C=Cherbourg, Q=Queenstown, S=Southampton||"
   ]
  },
  {
   "cell_type": "markdown",
   "id": "fc4e2cf1",
   "metadata": {},
   "source": [
    "### 2) Importing important libraries"
   ]
  },
  {
   "cell_type": "code",
   "execution_count": 1,
   "id": "bbce4490",
   "metadata": {},
   "outputs": [],
   "source": [
    "# data analysis libraries\n",
    "import pandas as pd\n",
    "import numpy as np\n",
    "\n",
    "# 시각화\n",
    "import matplotlib.pyplot as plt\n",
    "import seaborn as sns"
   ]
  },
  {
   "cell_type": "markdown",
   "id": "f982c1ba",
   "metadata": {},
   "source": [
    "### 3) Reading the dataset"
   ]
  },
  {
   "cell_type": "code",
   "execution_count": 2,
   "id": "87c6fbb8",
   "metadata": {},
   "outputs": [],
   "source": [
    "# \"PassengerId\" column을 index로 지정하여 train.csv 데이터를 읽음.\n",
    "train = pd.read_csv(\"C:/Users/hd00m/Python/Data_Kaggle/titanic/train.csv\", index_col=\"PassengerId\")"
   ]
  },
  {
   "cell_type": "code",
   "execution_count": 3,
   "id": "85d46769",
   "metadata": {},
   "outputs": [
    {
     "name": "stdout",
     "output_type": "stream",
     "text": [
      "(891, 11)\n",
      "<class 'pandas.core.frame.DataFrame'>\n",
      "Int64Index: 891 entries, 1 to 891\n",
      "Data columns (total 11 columns):\n",
      " #   Column    Non-Null Count  Dtype  \n",
      "---  ------    --------------  -----  \n",
      " 0   Survived  891 non-null    int64  \n",
      " 1   Pclass    891 non-null    int64  \n",
      " 2   Name      891 non-null    object \n",
      " 3   Sex       891 non-null    object \n",
      " 4   Age       714 non-null    float64\n",
      " 5   SibSp     891 non-null    int64  \n",
      " 6   Parch     891 non-null    int64  \n",
      " 7   Ticket    891 non-null    object \n",
      " 8   Fare      891 non-null    float64\n",
      " 9   Cabin     204 non-null    object \n",
      " 10  Embarked  889 non-null    object \n",
      "dtypes: float64(2), int64(4), object(5)\n",
      "memory usage: 83.5+ KB\n",
      "None\n"
     ]
    }
   ],
   "source": [
    "# 데이터 행렬 사이즈\n",
    "print(train.shape)\n",
    "print(train.info())"
   ]
  },
  {
   "cell_type": "markdown",
   "id": "230eb8ee",
   "metadata": {},
   "source": [
    "891명, 변수 11개 (PassengerId는 index이므로 변수에 포함되지 않음.) <br>\n",
    "연속형 변수 : Age, Fare <br>\n",
    "범주형 변수 : Survived, Pclass, Sex, SibSp, Parch, Embarked"
   ]
  },
  {
   "cell_type": "code",
   "execution_count": 4,
   "id": "5403255a",
   "metadata": {},
   "outputs": [
    {
     "data": {
      "text/html": [
       "<div>\n",
       "<style scoped>\n",
       "    .dataframe tbody tr th:only-of-type {\n",
       "        vertical-align: middle;\n",
       "    }\n",
       "\n",
       "    .dataframe tbody tr th {\n",
       "        vertical-align: top;\n",
       "    }\n",
       "\n",
       "    .dataframe thead th {\n",
       "        text-align: right;\n",
       "    }\n",
       "</style>\n",
       "<table border=\"1\" class=\"dataframe\">\n",
       "  <thead>\n",
       "    <tr style=\"text-align: right;\">\n",
       "      <th></th>\n",
       "      <th>Survived</th>\n",
       "      <th>Pclass</th>\n",
       "      <th>Name</th>\n",
       "      <th>Sex</th>\n",
       "      <th>Age</th>\n",
       "      <th>SibSp</th>\n",
       "      <th>Parch</th>\n",
       "      <th>Ticket</th>\n",
       "      <th>Fare</th>\n",
       "      <th>Cabin</th>\n",
       "      <th>Embarked</th>\n",
       "    </tr>\n",
       "    <tr>\n",
       "      <th>PassengerId</th>\n",
       "      <th></th>\n",
       "      <th></th>\n",
       "      <th></th>\n",
       "      <th></th>\n",
       "      <th></th>\n",
       "      <th></th>\n",
       "      <th></th>\n",
       "      <th></th>\n",
       "      <th></th>\n",
       "      <th></th>\n",
       "      <th></th>\n",
       "    </tr>\n",
       "  </thead>\n",
       "  <tbody>\n",
       "    <tr>\n",
       "      <th>1</th>\n",
       "      <td>0</td>\n",
       "      <td>3</td>\n",
       "      <td>Braund, Mr. Owen Harris</td>\n",
       "      <td>male</td>\n",
       "      <td>22.0</td>\n",
       "      <td>1</td>\n",
       "      <td>0</td>\n",
       "      <td>A/5 21171</td>\n",
       "      <td>7.2500</td>\n",
       "      <td>NaN</td>\n",
       "      <td>S</td>\n",
       "    </tr>\n",
       "    <tr>\n",
       "      <th>2</th>\n",
       "      <td>1</td>\n",
       "      <td>1</td>\n",
       "      <td>Cumings, Mrs. John Bradley (Florence Briggs Th...</td>\n",
       "      <td>female</td>\n",
       "      <td>38.0</td>\n",
       "      <td>1</td>\n",
       "      <td>0</td>\n",
       "      <td>PC 17599</td>\n",
       "      <td>71.2833</td>\n",
       "      <td>C85</td>\n",
       "      <td>C</td>\n",
       "    </tr>\n",
       "    <tr>\n",
       "      <th>3</th>\n",
       "      <td>1</td>\n",
       "      <td>3</td>\n",
       "      <td>Heikkinen, Miss. Laina</td>\n",
       "      <td>female</td>\n",
       "      <td>26.0</td>\n",
       "      <td>0</td>\n",
       "      <td>0</td>\n",
       "      <td>STON/O2. 3101282</td>\n",
       "      <td>7.9250</td>\n",
       "      <td>NaN</td>\n",
       "      <td>S</td>\n",
       "    </tr>\n",
       "    <tr>\n",
       "      <th>4</th>\n",
       "      <td>1</td>\n",
       "      <td>1</td>\n",
       "      <td>Futrelle, Mrs. Jacques Heath (Lily May Peel)</td>\n",
       "      <td>female</td>\n",
       "      <td>35.0</td>\n",
       "      <td>1</td>\n",
       "      <td>0</td>\n",
       "      <td>113803</td>\n",
       "      <td>53.1000</td>\n",
       "      <td>C123</td>\n",
       "      <td>S</td>\n",
       "    </tr>\n",
       "    <tr>\n",
       "      <th>5</th>\n",
       "      <td>0</td>\n",
       "      <td>3</td>\n",
       "      <td>Allen, Mr. William Henry</td>\n",
       "      <td>male</td>\n",
       "      <td>35.0</td>\n",
       "      <td>0</td>\n",
       "      <td>0</td>\n",
       "      <td>373450</td>\n",
       "      <td>8.0500</td>\n",
       "      <td>NaN</td>\n",
       "      <td>S</td>\n",
       "    </tr>\n",
       "  </tbody>\n",
       "</table>\n",
       "</div>"
      ],
      "text/plain": [
       "             Survived  Pclass  \\\n",
       "PassengerId                     \n",
       "1                   0       3   \n",
       "2                   1       1   \n",
       "3                   1       3   \n",
       "4                   1       1   \n",
       "5                   0       3   \n",
       "\n",
       "                                                          Name     Sex   Age  \\\n",
       "PassengerId                                                                    \n",
       "1                                      Braund, Mr. Owen Harris    male  22.0   \n",
       "2            Cumings, Mrs. John Bradley (Florence Briggs Th...  female  38.0   \n",
       "3                                       Heikkinen, Miss. Laina  female  26.0   \n",
       "4                 Futrelle, Mrs. Jacques Heath (Lily May Peel)  female  35.0   \n",
       "5                                     Allen, Mr. William Henry    male  35.0   \n",
       "\n",
       "             SibSp  Parch            Ticket     Fare Cabin Embarked  \n",
       "PassengerId                                                          \n",
       "1                1      0         A/5 21171   7.2500   NaN        S  \n",
       "2                1      0          PC 17599  71.2833   C85        C  \n",
       "3                0      0  STON/O2. 3101282   7.9250   NaN        S  \n",
       "4                1      0            113803  53.1000  C123        S  \n",
       "5                0      0            373450   8.0500   NaN        S  "
      ]
     },
     "execution_count": 4,
     "metadata": {},
     "output_type": "execute_result"
    }
   ],
   "source": [
    "# 데이터의 상위 5개\n",
    "train.head()"
   ]
  },
  {
   "cell_type": "code",
   "execution_count": 5,
   "id": "6ab3319c",
   "metadata": {},
   "outputs": [
    {
     "data": {
      "text/html": [
       "<div>\n",
       "<style scoped>\n",
       "    .dataframe tbody tr th:only-of-type {\n",
       "        vertical-align: middle;\n",
       "    }\n",
       "\n",
       "    .dataframe tbody tr th {\n",
       "        vertical-align: top;\n",
       "    }\n",
       "\n",
       "    .dataframe thead th {\n",
       "        text-align: right;\n",
       "    }\n",
       "</style>\n",
       "<table border=\"1\" class=\"dataframe\">\n",
       "  <thead>\n",
       "    <tr style=\"text-align: right;\">\n",
       "      <th></th>\n",
       "      <th>Name</th>\n",
       "      <th>Sex</th>\n",
       "      <th>Ticket</th>\n",
       "      <th>Cabin</th>\n",
       "      <th>Embarked</th>\n",
       "    </tr>\n",
       "  </thead>\n",
       "  <tbody>\n",
       "    <tr>\n",
       "      <th>count</th>\n",
       "      <td>891</td>\n",
       "      <td>891</td>\n",
       "      <td>891</td>\n",
       "      <td>204</td>\n",
       "      <td>889</td>\n",
       "    </tr>\n",
       "    <tr>\n",
       "      <th>unique</th>\n",
       "      <td>891</td>\n",
       "      <td>2</td>\n",
       "      <td>681</td>\n",
       "      <td>147</td>\n",
       "      <td>3</td>\n",
       "    </tr>\n",
       "    <tr>\n",
       "      <th>top</th>\n",
       "      <td>Braund, Mr. Owen Harris</td>\n",
       "      <td>male</td>\n",
       "      <td>347082</td>\n",
       "      <td>B96 B98</td>\n",
       "      <td>S</td>\n",
       "    </tr>\n",
       "    <tr>\n",
       "      <th>freq</th>\n",
       "      <td>1</td>\n",
       "      <td>577</td>\n",
       "      <td>7</td>\n",
       "      <td>4</td>\n",
       "      <td>644</td>\n",
       "    </tr>\n",
       "  </tbody>\n",
       "</table>\n",
       "</div>"
      ],
      "text/plain": [
       "                           Name   Sex  Ticket    Cabin Embarked\n",
       "count                       891   891     891      204      889\n",
       "unique                      891     2     681      147        3\n",
       "top     Braund, Mr. Owen Harris  male  347082  B96 B98        S\n",
       "freq                          1   577       7        4      644"
      ]
     },
     "execution_count": 5,
     "metadata": {},
     "output_type": "execute_result"
    }
   ],
   "source": [
    "# Object 변수 통계치\n",
    "train.describe(include=['O'])"
   ]
  },
  {
   "cell_type": "code",
   "execution_count": 6,
   "id": "f3ef2805",
   "metadata": {},
   "outputs": [
    {
     "data": {
      "text/html": [
       "<div>\n",
       "<style scoped>\n",
       "    .dataframe tbody tr th:only-of-type {\n",
       "        vertical-align: middle;\n",
       "    }\n",
       "\n",
       "    .dataframe tbody tr th {\n",
       "        vertical-align: top;\n",
       "    }\n",
       "\n",
       "    .dataframe thead th {\n",
       "        text-align: right;\n",
       "    }\n",
       "</style>\n",
       "<table border=\"1\" class=\"dataframe\">\n",
       "  <thead>\n",
       "    <tr style=\"text-align: right;\">\n",
       "      <th></th>\n",
       "      <th>Survived</th>\n",
       "      <th>Pclass</th>\n",
       "      <th>Age</th>\n",
       "      <th>SibSp</th>\n",
       "      <th>Parch</th>\n",
       "      <th>Fare</th>\n",
       "    </tr>\n",
       "  </thead>\n",
       "  <tbody>\n",
       "    <tr>\n",
       "      <th>count</th>\n",
       "      <td>891.000000</td>\n",
       "      <td>891.000000</td>\n",
       "      <td>714.000000</td>\n",
       "      <td>891.000000</td>\n",
       "      <td>891.000000</td>\n",
       "      <td>891.000000</td>\n",
       "    </tr>\n",
       "    <tr>\n",
       "      <th>mean</th>\n",
       "      <td>0.383838</td>\n",
       "      <td>2.308642</td>\n",
       "      <td>29.699118</td>\n",
       "      <td>0.523008</td>\n",
       "      <td>0.381594</td>\n",
       "      <td>32.204208</td>\n",
       "    </tr>\n",
       "    <tr>\n",
       "      <th>std</th>\n",
       "      <td>0.486592</td>\n",
       "      <td>0.836071</td>\n",
       "      <td>14.526497</td>\n",
       "      <td>1.102743</td>\n",
       "      <td>0.806057</td>\n",
       "      <td>49.693429</td>\n",
       "    </tr>\n",
       "    <tr>\n",
       "      <th>min</th>\n",
       "      <td>0.000000</td>\n",
       "      <td>1.000000</td>\n",
       "      <td>0.420000</td>\n",
       "      <td>0.000000</td>\n",
       "      <td>0.000000</td>\n",
       "      <td>0.000000</td>\n",
       "    </tr>\n",
       "    <tr>\n",
       "      <th>25%</th>\n",
       "      <td>0.000000</td>\n",
       "      <td>2.000000</td>\n",
       "      <td>20.125000</td>\n",
       "      <td>0.000000</td>\n",
       "      <td>0.000000</td>\n",
       "      <td>7.910400</td>\n",
       "    </tr>\n",
       "    <tr>\n",
       "      <th>50%</th>\n",
       "      <td>0.000000</td>\n",
       "      <td>3.000000</td>\n",
       "      <td>28.000000</td>\n",
       "      <td>0.000000</td>\n",
       "      <td>0.000000</td>\n",
       "      <td>14.454200</td>\n",
       "    </tr>\n",
       "    <tr>\n",
       "      <th>75%</th>\n",
       "      <td>1.000000</td>\n",
       "      <td>3.000000</td>\n",
       "      <td>38.000000</td>\n",
       "      <td>1.000000</td>\n",
       "      <td>0.000000</td>\n",
       "      <td>31.000000</td>\n",
       "    </tr>\n",
       "    <tr>\n",
       "      <th>max</th>\n",
       "      <td>1.000000</td>\n",
       "      <td>3.000000</td>\n",
       "      <td>80.000000</td>\n",
       "      <td>8.000000</td>\n",
       "      <td>6.000000</td>\n",
       "      <td>512.329200</td>\n",
       "    </tr>\n",
       "  </tbody>\n",
       "</table>\n",
       "</div>"
      ],
      "text/plain": [
       "         Survived      Pclass         Age       SibSp       Parch        Fare\n",
       "count  891.000000  891.000000  714.000000  891.000000  891.000000  891.000000\n",
       "mean     0.383838    2.308642   29.699118    0.523008    0.381594   32.204208\n",
       "std      0.486592    0.836071   14.526497    1.102743    0.806057   49.693429\n",
       "min      0.000000    1.000000    0.420000    0.000000    0.000000    0.000000\n",
       "25%      0.000000    2.000000   20.125000    0.000000    0.000000    7.910400\n",
       "50%      0.000000    3.000000   28.000000    0.000000    0.000000   14.454200\n",
       "75%      1.000000    3.000000   38.000000    1.000000    0.000000   31.000000\n",
       "max      1.000000    3.000000   80.000000    8.000000    6.000000  512.329200"
      ]
     },
     "execution_count": 6,
     "metadata": {},
     "output_type": "execute_result"
    }
   ],
   "source": [
    "# int, float 변수 통계치\n",
    "train.describe()"
   ]
  },
  {
   "cell_type": "markdown",
   "id": "7d37dae9",
   "metadata": {},
   "source": [
    "생존율 : 38.4% (Survived의 mean=0.383838)"
   ]
  },
  {
   "cell_type": "code",
   "execution_count": 7,
   "id": "b42a6a33",
   "metadata": {},
   "outputs": [
    {
     "data": {
      "text/plain": [
       "Survived      0\n",
       "Pclass        0\n",
       "Name          0\n",
       "Sex           0\n",
       "Age         177\n",
       "SibSp         0\n",
       "Parch         0\n",
       "Ticket        0\n",
       "Fare          0\n",
       "Cabin       687\n",
       "Embarked      2\n",
       "dtype: int64"
      ]
     },
     "execution_count": 7,
     "metadata": {},
     "output_type": "execute_result"
    }
   ],
   "source": [
    "# 결측 확인\n",
    "train.isnull().sum()"
   ]
  },
  {
   "cell_type": "markdown",
   "id": "3832ddd5",
   "metadata": {},
   "source": [
    "* 나이는 생존 여부와 연관이 있을 것 + 결측치가 많음 = 대체할 방법을 생각. <br>\n",
    "\n",
    "* cabin(객실 번호)는 생존 여부와 연관이 있을지..? + 결측치가 많음 = 대체 여부 보류\n",
    "(배의 위치에 따라 생존 여부가 다를 것으로 생각. 객실 번호는 배의 위치에 따라 부여된 다고 생각.)"
   ]
  },
  {
   "cell_type": "markdown",
   "id": "35fdc277",
   "metadata": {},
   "source": [
    "## Step2. Exploratory Data Analysis(EDA)"
   ]
  },
  {
   "cell_type": "markdown",
   "id": "ee03e68a",
   "metadata": {},
   "source": [
    "### 1) Data Visualization"
   ]
  },
  {
   "cell_type": "markdown",
   "id": "40638d23",
   "metadata": {},
   "source": [
    "> Survival"
   ]
  },
  {
   "cell_type": "code",
   "execution_count": 8,
   "id": "ffa8e90c",
   "metadata": {},
   "outputs": [
    {
     "data": {
      "text/html": [
       "<div>\n",
       "<style scoped>\n",
       "    .dataframe tbody tr th:only-of-type {\n",
       "        vertical-align: middle;\n",
       "    }\n",
       "\n",
       "    .dataframe tbody tr th {\n",
       "        vertical-align: top;\n",
       "    }\n",
       "\n",
       "    .dataframe thead th {\n",
       "        text-align: right;\n",
       "    }\n",
       "</style>\n",
       "<table border=\"1\" class=\"dataframe\">\n",
       "  <thead>\n",
       "    <tr style=\"text-align: right;\">\n",
       "      <th></th>\n",
       "      <th>Survived</th>\n",
       "      <th>Survived_C</th>\n",
       "    </tr>\n",
       "    <tr>\n",
       "      <th>PassengerId</th>\n",
       "      <th></th>\n",
       "      <th></th>\n",
       "    </tr>\n",
       "  </thead>\n",
       "  <tbody>\n",
       "    <tr>\n",
       "      <th>1</th>\n",
       "      <td>0</td>\n",
       "      <td>Perish</td>\n",
       "    </tr>\n",
       "    <tr>\n",
       "      <th>2</th>\n",
       "      <td>1</td>\n",
       "      <td>Survived</td>\n",
       "    </tr>\n",
       "    <tr>\n",
       "      <th>3</th>\n",
       "      <td>1</td>\n",
       "      <td>Survived</td>\n",
       "    </tr>\n",
       "    <tr>\n",
       "      <th>4</th>\n",
       "      <td>1</td>\n",
       "      <td>Survived</td>\n",
       "    </tr>\n",
       "    <tr>\n",
       "      <th>5</th>\n",
       "      <td>0</td>\n",
       "      <td>Perish</td>\n",
       "    </tr>\n",
       "  </tbody>\n",
       "</table>\n",
       "</div>"
      ],
      "text/plain": [
       "             Survived Survived_C\n",
       "PassengerId                     \n",
       "1                   0     Perish\n",
       "2                   1   Survived\n",
       "3                   1   Survived\n",
       "4                   1   Survived\n",
       "5                   0     Perish"
      ]
     },
     "execution_count": 8,
     "metadata": {},
     "output_type": "execute_result"
    }
   ],
   "source": [
    "# 생존여부 label\n",
    "# 0 = 사망, 1 = 생존\n",
    "train['Survived_C'] = train['Survived'].replace(0, 'Perish').replace(1, \"Survived\")\n",
    "train[['Survived','Survived_C']].head()"
   ]
  },
  {
   "cell_type": "code",
   "execution_count": 9,
   "id": "d24d5d96",
   "metadata": {},
   "outputs": [
    {
     "name": "stdout",
     "output_type": "stream",
     "text": [
      "Perish      549\n",
      "Survived    342\n",
      "Name: Survived_C, dtype: int64\n"
     ]
    }
   ],
   "source": [
    "print(train['Survived_C'].value_counts())"
   ]
  },
  {
   "cell_type": "code",
   "execution_count": 10,
   "id": "22b22601",
   "metadata": {},
   "outputs": [],
   "source": [
    "#train['Survived'].value_counts().plot.bar()"
   ]
  },
  {
   "cell_type": "code",
   "execution_count": 11,
   "id": "7fd1b68d",
   "metadata": {},
   "outputs": [
    {
     "data": {
      "image/png": "[encoded data removed]",
      "text/plain": [
       "<Figure size 640x480 with 1 Axes>"
      ]
     },
     "metadata": {},
     "output_type": "display_data"
    }
   ],
   "source": [
    "ax = train['Survived_C'].value_counts().plot(kind='bar', title=\"Survival\", rot=0)\n",
    "plt.ylim(0, 700)\n",
    "\n",
    "for p in ax.patches:\n",
    "    left, bottom, width, height=p.get_bbox().bounds\n",
    "    ax.annotate(\"%d (%.2f %%)\"%(height, height/891*100), (left+width/2, height+10), ha='center')"
   ]
  },
  {
   "cell_type": "markdown",
   "id": "35e045f4",
   "metadata": {},
   "source": [
    "사망 : 549명, 61% <br>\n",
    "생존 : 342명, 38%"
   ]
  },
  {
   "cell_type": "markdown",
   "id": "dd687e2b",
   "metadata": {},
   "source": [
    "> Age & Survival"
   ]
  },
  {
   "cell_type": "code",
   "execution_count": 12,
   "id": "e347ae22",
   "metadata": {},
   "outputs": [
    {
     "data": {
      "text/html": [
       "<div>\n",
       "<style scoped>\n",
       "    .dataframe tbody tr th:only-of-type {\n",
       "        vertical-align: middle;\n",
       "    }\n",
       "\n",
       "    .dataframe tbody tr th {\n",
       "        vertical-align: top;\n",
       "    }\n",
       "\n",
       "    .dataframe thead th {\n",
       "        text-align: right;\n",
       "    }\n",
       "</style>\n",
       "<table border=\"1\" class=\"dataframe\">\n",
       "  <thead>\n",
       "    <tr style=\"text-align: right;\">\n",
       "      <th></th>\n",
       "      <th>Age</th>\n",
       "      <th>Age_C1</th>\n",
       "    </tr>\n",
       "    <tr>\n",
       "      <th>PassengerId</th>\n",
       "      <th></th>\n",
       "      <th></th>\n",
       "    </tr>\n",
       "  </thead>\n",
       "  <tbody>\n",
       "    <tr>\n",
       "      <th>887</th>\n",
       "      <td>27.0</td>\n",
       "      <td>Audlt</td>\n",
       "    </tr>\n",
       "    <tr>\n",
       "      <th>888</th>\n",
       "      <td>19.0</td>\n",
       "      <td>Child</td>\n",
       "    </tr>\n",
       "    <tr>\n",
       "      <th>889</th>\n",
       "      <td>NaN</td>\n",
       "      <td>NaN</td>\n",
       "    </tr>\n",
       "    <tr>\n",
       "      <th>890</th>\n",
       "      <td>26.0</td>\n",
       "      <td>Audlt</td>\n",
       "    </tr>\n",
       "    <tr>\n",
       "      <th>891</th>\n",
       "      <td>32.0</td>\n",
       "      <td>Audlt</td>\n",
       "    </tr>\n",
       "  </tbody>\n",
       "</table>\n",
       "</div>"
      ],
      "text/plain": [
       "              Age Age_C1\n",
       "PassengerId             \n",
       "887          27.0  Audlt\n",
       "888          19.0  Child\n",
       "889           NaN    NaN\n",
       "890          26.0  Audlt\n",
       "891          32.0  Audlt"
      ]
     },
     "execution_count": 12,
     "metadata": {},
     "output_type": "execute_result"
    }
   ],
   "source": [
    "# 연령 범주화1\n",
    "# Child : 0세~19세 이상, Audlt : 20세~40세 이상, Senior : 41세~60세 이상, Old : 61세 이상\n",
    "train['Age_C1'] = pd.cut(train[\"Age\"], bins=[0, 19, 40, 60, 9999], labels=['Child', 'Audlt', 'Senior', 'Old'])\n",
    "train[['Age','Age_C1']].tail()"
   ]
  },
  {
   "cell_type": "markdown",
   "id": "9d9730f6",
   "metadata": {},
   "source": [
    "코딩이 잘됐는지 확인."
   ]
  },
  {
   "cell_type": "code",
   "execution_count": 13,
   "id": "3f596e78",
   "metadata": {},
   "outputs": [
    {
     "data": {
      "text/html": [
       "<div>\n",
       "<style scoped>\n",
       "    .dataframe tbody tr th:only-of-type {\n",
       "        vertical-align: middle;\n",
       "    }\n",
       "\n",
       "    .dataframe tbody tr th {\n",
       "        vertical-align: top;\n",
       "    }\n",
       "\n",
       "    .dataframe thead th {\n",
       "        text-align: right;\n",
       "    }\n",
       "</style>\n",
       "<table border=\"1\" class=\"dataframe\">\n",
       "  <thead>\n",
       "    <tr style=\"text-align: right;\">\n",
       "      <th></th>\n",
       "      <th>Age</th>\n",
       "      <th>Age_C1</th>\n",
       "    </tr>\n",
       "    <tr>\n",
       "      <th>PassengerId</th>\n",
       "      <th></th>\n",
       "      <th></th>\n",
       "    </tr>\n",
       "  </thead>\n",
       "  <tbody>\n",
       "    <tr>\n",
       "      <th>13</th>\n",
       "      <td>20.0</td>\n",
       "      <td>Audlt</td>\n",
       "    </tr>\n",
       "    <tr>\n",
       "      <th>28</th>\n",
       "      <td>19.0</td>\n",
       "      <td>Child</td>\n",
       "    </tr>\n",
       "    <tr>\n",
       "      <th>31</th>\n",
       "      <td>40.0</td>\n",
       "      <td>Audlt</td>\n",
       "    </tr>\n",
       "    <tr>\n",
       "      <th>41</th>\n",
       "      <td>40.0</td>\n",
       "      <td>Audlt</td>\n",
       "    </tr>\n",
       "    <tr>\n",
       "      <th>45</th>\n",
       "      <td>19.0</td>\n",
       "      <td>Child</td>\n",
       "    </tr>\n",
       "    <tr>\n",
       "      <th>68</th>\n",
       "      <td>19.0</td>\n",
       "      <td>Child</td>\n",
       "    </tr>\n",
       "    <tr>\n",
       "      <th>92</th>\n",
       "      <td>20.0</td>\n",
       "      <td>Audlt</td>\n",
       "    </tr>\n",
       "    <tr>\n",
       "      <th>114</th>\n",
       "      <td>20.0</td>\n",
       "      <td>Audlt</td>\n",
       "    </tr>\n",
       "    <tr>\n",
       "      <th>132</th>\n",
       "      <td>20.0</td>\n",
       "      <td>Audlt</td>\n",
       "    </tr>\n",
       "    <tr>\n",
       "      <th>137</th>\n",
       "      <td>19.0</td>\n",
       "      <td>Child</td>\n",
       "    </tr>\n",
       "    <tr>\n",
       "      <th>144</th>\n",
       "      <td>19.0</td>\n",
       "      <td>Child</td>\n",
       "    </tr>\n",
       "    <tr>\n",
       "      <th>146</th>\n",
       "      <td>19.0</td>\n",
       "      <td>Child</td>\n",
       "    </tr>\n",
       "    <tr>\n",
       "      <th>162</th>\n",
       "      <td>40.0</td>\n",
       "      <td>Audlt</td>\n",
       "    </tr>\n",
       "    <tr>\n",
       "      <th>189</th>\n",
       "      <td>40.0</td>\n",
       "      <td>Audlt</td>\n",
       "    </tr>\n",
       "    <tr>\n",
       "      <th>192</th>\n",
       "      <td>19.0</td>\n",
       "      <td>Child</td>\n",
       "    </tr>\n",
       "    <tr>\n",
       "      <th>193</th>\n",
       "      <td>19.0</td>\n",
       "      <td>Child</td>\n",
       "    </tr>\n",
       "    <tr>\n",
       "      <th>210</th>\n",
       "      <td>40.0</td>\n",
       "      <td>Audlt</td>\n",
       "    </tr>\n",
       "    <tr>\n",
       "      <th>227</th>\n",
       "      <td>19.0</td>\n",
       "      <td>Child</td>\n",
       "    </tr>\n",
       "    <tr>\n",
       "      <th>239</th>\n",
       "      <td>19.0</td>\n",
       "      <td>Child</td>\n",
       "    </tr>\n",
       "    <tr>\n",
       "      <th>255</th>\n",
       "      <td>41.0</td>\n",
       "      <td>Senior</td>\n",
       "    </tr>\n",
       "  </tbody>\n",
       "</table>\n",
       "</div>"
      ],
      "text/plain": [
       "              Age  Age_C1\n",
       "PassengerId              \n",
       "13           20.0   Audlt\n",
       "28           19.0   Child\n",
       "31           40.0   Audlt\n",
       "41           40.0   Audlt\n",
       "45           19.0   Child\n",
       "68           19.0   Child\n",
       "92           20.0   Audlt\n",
       "114          20.0   Audlt\n",
       "132          20.0   Audlt\n",
       "137          19.0   Child\n",
       "144          19.0   Child\n",
       "146          19.0   Child\n",
       "162          40.0   Audlt\n",
       "189          40.0   Audlt\n",
       "192          19.0   Child\n",
       "193          19.0   Child\n",
       "210          40.0   Audlt\n",
       "227          19.0   Child\n",
       "239          19.0   Child\n",
       "255          41.0  Senior"
      ]
     },
     "execution_count": 13,
     "metadata": {},
     "output_type": "execute_result"
    }
   ],
   "source": [
    "train.loc[(train['Age'] == 20) | (train['Age'] == 19) | (train['Age'] == 40)  | (train['Age'] == 41), ['Age', 'Age_C1']].head(20)"
   ]
  },
  {
   "cell_type": "code",
   "execution_count": 14,
   "id": "0e946c99",
   "metadata": {},
   "outputs": [
    {
     "data": {
      "text/plain": [
       "Age_C1\n",
       "Child     164\n",
       "Audlt     400\n",
       "Senior    128\n",
       "Old        22\n",
       "Name: Age, dtype: int64"
      ]
     },
     "execution_count": 14,
     "metadata": {},
     "output_type": "execute_result"
    }
   ],
   "source": [
    "train.groupby('Age_C1')['Age'].count()\n",
    "#train['Age_C'].value_counts()"
   ]
  },
  {
   "cell_type": "code",
   "execution_count": 15,
   "id": "d4fe9f92",
   "metadata": {},
   "outputs": [
    {
     "data": {
      "image/png": "[encoded data removed]",
      "text/plain": [
       "<Figure size 640x480 with 1 Axes>"
      ]
     },
     "metadata": {},
     "output_type": "display_data"
    }
   ],
   "source": [
    "ax = train.groupby('Age_C1')['Age'].count().plot(kind='bar', title=\"Age\", rot=0)\n",
    "plt.ylim(0, 500)\n",
    "plt.xlabel('')\n",
    "\n",
    "for p in ax.patches:\n",
    "    left, bottom, width, height=p.get_bbox().bounds\n",
    "    ax.annotate(\"%d (%.2f %%)\"%(height, height/714*100), (left+width/2, height+10), ha='center')"
   ]
  },
  {
   "cell_type": "markdown",
   "id": "85429604",
   "metadata": {},
   "source": [
    "Child : 164명, 23% <br>\n",
    "Audit : 400명, 56% <br>\n",
    "Senior : 128명, 18% <br>\n",
    "Old : 22명, 3% "
   ]
  },
  {
   "cell_type": "code",
   "execution_count": 16,
   "id": "0023ff40",
   "metadata": {},
   "outputs": [
    {
     "data": {
      "text/plain": [
       "Audlt     244\n",
       "Child      85\n",
       "Senior     78\n",
       "Old        17\n",
       "Name: Age_C1, dtype: int64"
      ]
     },
     "execution_count": 16,
     "metadata": {},
     "output_type": "execute_result"
    }
   ],
   "source": [
    "# 열을 생존 여부로 나눔\n",
    "train_sur = train.loc[train['Survived'] ==1, :]\n",
    "train_per = train.loc[train['Survived'] ==0, :]\n",
    "train_sur['Age_C1'].value_counts()\n",
    "train_per['Age_C1'].value_counts()"
   ]
  },
  {
   "cell_type": "code",
   "execution_count": 17,
   "id": "d489c2a4",
   "metadata": {},
   "outputs": [
    {
     "data": {
      "image/png": "[encoded data removed]",
      "text/plain": [
       "<Figure size 1000x500 with 2 Axes>"
      ]
     },
     "metadata": {},
     "output_type": "display_data"
    }
   ],
   "source": [
    "plt.figure(figsize=(10, 5))\n",
    "\n",
    "plt.subplot(1, 2, 1) \n",
    "ax = train_sur.groupby('Age_C1')['Age'].count().plot(kind='bar', title=\"Age | Survived\", rot=0)\n",
    "plt.ylim(0, 300)\n",
    "plt.xlabel('')\n",
    "\n",
    "for p in ax.patches:\n",
    "    left, bottom, width, height=p.get_bbox().bounds\n",
    "    ax.annotate(\"%d\"%(height), (left+width/2, height+5), ha='center', size=10)\n",
    "\n",
    "\n",
    "\n",
    "plt.subplot(1, 2, 2) \n",
    "ax = train_per.groupby('Age_C1')['Age'].count().plot(kind='bar', title=\"Age | Perish\", rot=0)\n",
    "plt.ylim(0, 300)\n",
    "plt.xlabel('')\n",
    "\n",
    "for p in ax.patches:\n",
    "    left, bottom, width, height=p.get_bbox().bounds\n",
    "    ax.annotate(\"%d\"%(height), (left+width/2, height+5), ha='center', size=10)\n",
    "\n"
   ]
  },
  {
   "cell_type": "code",
   "execution_count": 18,
   "id": "2f29859a",
   "metadata": {},
   "outputs": [
    {
     "data": {
      "text/html": [
       "<div>\n",
       "<style scoped>\n",
       "    .dataframe tbody tr th:only-of-type {\n",
       "        vertical-align: middle;\n",
       "    }\n",
       "\n",
       "    .dataframe tbody tr th {\n",
       "        vertical-align: top;\n",
       "    }\n",
       "\n",
       "    .dataframe thead th {\n",
       "        text-align: right;\n",
       "    }\n",
       "</style>\n",
       "<table border=\"1\" class=\"dataframe\">\n",
       "  <thead>\n",
       "    <tr style=\"text-align: right;\">\n",
       "      <th></th>\n",
       "      <th>Age</th>\n",
       "      <th>Age_C2</th>\n",
       "    </tr>\n",
       "    <tr>\n",
       "      <th>PassengerId</th>\n",
       "      <th></th>\n",
       "      <th></th>\n",
       "    </tr>\n",
       "  </thead>\n",
       "  <tbody>\n",
       "    <tr>\n",
       "      <th>887</th>\n",
       "      <td>27.0</td>\n",
       "      <td>Group2</td>\n",
       "    </tr>\n",
       "    <tr>\n",
       "      <th>888</th>\n",
       "      <td>19.0</td>\n",
       "      <td>Group1</td>\n",
       "    </tr>\n",
       "    <tr>\n",
       "      <th>889</th>\n",
       "      <td>NaN</td>\n",
       "      <td>NaN</td>\n",
       "    </tr>\n",
       "    <tr>\n",
       "      <th>890</th>\n",
       "      <td>26.0</td>\n",
       "      <td>Group2</td>\n",
       "    </tr>\n",
       "    <tr>\n",
       "      <th>891</th>\n",
       "      <td>32.0</td>\n",
       "      <td>Group3</td>\n",
       "    </tr>\n",
       "  </tbody>\n",
       "</table>\n",
       "</div>"
      ],
      "text/plain": [
       "              Age  Age_C2\n",
       "PassengerId              \n",
       "887          27.0  Group2\n",
       "888          19.0  Group1\n",
       "889           NaN     NaN\n",
       "890          26.0  Group2\n",
       "891          32.0  Group3"
      ]
     },
     "execution_count": 18,
     "metadata": {},
     "output_type": "execute_result"
    }
   ],
   "source": [
    "# 연령 범주화2\n",
    "# Group1 : 0세~10세 이상, Group2 : 11세~20세 이상 ...\n",
    "train['Age_C2'] = pd.cut(train[\"Age\"], bins=[0, 10, 20, 30, 40, 50, 60, 70, 80, 9999], labels=['Group0', 'Group1', 'Group2', 'Group3', 'Group4', 'Group5', 'Group6', 'Group7', 'Group8'])\n",
    "train[['Age','Age_C2']].tail()"
   ]
  },
  {
   "cell_type": "code",
   "execution_count": 19,
   "id": "ca450321",
   "metadata": {},
   "outputs": [
    {
     "data": {
      "text/plain": [
       "Age_C2\n",
       "Group0     64\n",
       "Group1    115\n",
       "Group2    230\n",
       "Group3    155\n",
       "Group4     86\n",
       "Group5     42\n",
       "Group6     17\n",
       "Group7      5\n",
       "Group8      0\n",
       "Name: Age, dtype: int64"
      ]
     },
     "execution_count": 19,
     "metadata": {},
     "output_type": "execute_result"
    }
   ],
   "source": [
    "train.groupby('Age_C2')['Age'].count()"
   ]
  },
  {
   "cell_type": "code",
   "execution_count": 20,
   "id": "bc14269d",
   "metadata": {},
   "outputs": [
    {
     "data": {
      "image/png": "[encoded data removed]",
      "text/plain": [
       "<Figure size 1000x500 with 1 Axes>"
      ]
     },
     "metadata": {},
     "output_type": "display_data"
    }
   ],
   "source": [
    "plt.figure(figsize=(10, 5))\n",
    "ax = train.groupby('Age_C2')['Age'].count().plot(kind='bar', title=\"Age\", rot=0)\n",
    "plt.ylim(0, 300)\n",
    "plt.xlabel('')\n",
    "\n",
    "for p in ax.patches:\n",
    "    left, bottom, width, height=p.get_bbox().bounds\n",
    "    ax.annotate(\"%d (%.2f %%)\"%(height, height/714*100), (left+width/2, height+10), ha='center', size=8)"
   ]
  },
  {
   "cell_type": "code",
   "execution_count": 21,
   "id": "4886d277",
   "metadata": {
    "scrolled": false
   },
   "outputs": [
    {
     "data": {
      "image/png": "[encoded data removed]",
      "text/plain": [
       "<Figure size 1500x500 with 2 Axes>"
      ]
     },
     "metadata": {},
     "output_type": "display_data"
    }
   ],
   "source": [
    "# 열을 생존 여부로 나눔\n",
    "train_sur = train.loc[train['Survived'] ==1, :]\n",
    "train_per = train.loc[train['Survived'] ==0, :]\n",
    "plt.figure(figsize=(15, 5))\n",
    "\n",
    "plt.subplot(1, 2, 1) \n",
    "ax = train_sur.groupby('Age_C2')['Age'].count().plot(kind='bar', title=\"Age | Survived\", rot=0)\n",
    "plt.ylim(0, 170)\n",
    "plt.xlabel('')\n",
    "\n",
    "for p in ax.patches:\n",
    "    left, bottom, width, height=p.get_bbox().bounds\n",
    "    ax.annotate(\"%d\"%(height), (left+width/2, height+3), ha='center', size=9)\n",
    "\n",
    "\n",
    "\n",
    "plt.subplot(1, 2, 2) \n",
    "ax = train_per.groupby('Age_C2')['Age'].count().plot(kind='bar', title=\"Age | Perish\", rot=0)\n",
    "plt.ylim(0, 170)\n",
    "plt.xlabel('')\n",
    "\n",
    "for p in ax.patches:\n",
    "    left, bottom, width, height=p.get_bbox().bounds\n",
    "    ax.annotate(\"%d\"%(height), (left+width/2, height+3), ha='center', size=9)\n",
    "\n"
   ]
  },
  {
   "cell_type": "code",
   "execution_count": 22,
   "id": "2896d0a9",
   "metadata": {},
   "outputs": [
    {
     "data": {
      "text/plain": [
       "<AxesSubplot:xlabel='Age_C2', ylabel='count'>"
      ]
     },
     "execution_count": 22,
     "metadata": {},
     "output_type": "execute_result"
    },
    {
     "data": {
      "image/png": "[encoded data removed]",
      "text/plain": [
       "<Figure size 640x480 with 1 Axes>"
      ]
     },
     "metadata": {},
     "output_type": "display_data"
    }
   ],
   "source": [
    "sns.countplot(data=train, x='Age_C2', hue='Survived_C')"
   ]
  },
  {
   "cell_type": "markdown",
   "id": "640a8437",
   "metadata": {},
   "source": [
    "> 10대 이하와 70대 이상은 사망한 대상자보다 생존한 대상자가 더 많음. <br>\n",
    "> 20대는 생존한 대상자의 1.7배 사망함. "
   ]
  }
 ],
 "metadata": {
  "kernelspec": {
   "display_name": "Python 3 (ipykernel)",
   "language": "python",
   "name": "python3"
  },
  "language_info": {
   "codemirror_mode": {
    "name": "ipython",
    "version": 3
   },
   "file_extension": ".py",
   "mimetype": "text/x-python",
   "name": "python",
   "nbconvert_exporter": "python",
   "pygments_lexer": "ipython3",
   "version": "3.9.13"
  }
 },
 "nbformat": 4,
 "nbformat_minor": 5
}
